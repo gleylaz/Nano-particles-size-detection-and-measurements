{
 "cells": [
  {
   "cell_type": "code",
   "execution_count": 1,
   "metadata": {},
   "outputs": [
    {
     "name": "stdout",
     "output_type": "stream",
     "text": [
      "(1036, 1344)\n"
     ]
    }
   ],
   "source": [
    "\n",
    "import cv2\n",
    "import numpy as np\n",
    "import matplotlib.pyplot as plt\n",
    "\n",
    "# Magnification is defined on the scale bar in the image\n",
    "Magnification=200\n",
    "\n",
    "img = cv2.imread('pureSilica 03.tif',0)\n",
    "img = cv2.medianBlur(img,5)\n",
    "cimg = cv2.cvtColor(img,cv2.COLOR_GRAY2BGR)\n",
    "\n",
    "image_rows, image_cols= img.shape\n",
    "print(img.shape)"
   ]
  },
  {
   "cell_type": "markdown",
   "metadata": {},
   "source": [
    "### Detect scale bar to know the pixel and distance ratio"
   ]
  },
  {
   "cell_type": "code",
   "execution_count": 2,
   "metadata": {},
   "outputs": [
    {
     "name": "stdout",
     "output_type": "stream",
     "text": [
      "Distance_Pixel_ratio: 0.5494505494505495\n"
     ]
    }
   ],
   "source": [
    "imgg = cv2.imread(\"pureSilica 01.tif\")\n",
    "image = cv2.cvtColor(imgg,cv2.COLOR_BGR2HLS)\n",
    "lower = np.uint8([0, 250, 0])\n",
    "upper = np.uint8([255, 255, 255])\n",
    "whitemask = cv2.inRange(image, lower, upper)\n",
    "\n",
    "edges = cv2.Canny(whitemask, 50, 150)\n",
    "\n",
    "lines = cv2.HoughLinesP(edges,1,np.pi/180,1,minLineLength=100,maxLineGap=30)\n",
    "\n",
    "for x1,y1,x2,y2 in lines[0]:\n",
    "    cv2.line(imgg,(x1,y1),(x2,y2),(0,255,0),2)\n",
    "    cv2.imwrite('LineBarScale.jpg',imgg)\n",
    "    Scale_Bar_Pixel=abs(x1-x2)\n",
    "    Distance_Pixel_ratio=Magnification/Scale_Bar_Pixel\n",
    "    print(\"Distance_Pixel_ratio:\",Distance_Pixel_ratio)\n",
    "    \n",
    "\n",
    "#cv2.imshow(\"edges\",edges)\n",
    "#cv2.waitKey(0)"
   ]
  },
  {
   "cell_type": "markdown",
   "metadata": {},
   "source": [
    "### Detect circles"
   ]
  },
  {
   "cell_type": "code",
   "execution_count": 3,
   "metadata": {},
   "outputs": [],
   "source": [
    "\n",
    "## Funding the detected circles in the vectors of 3 elements (x,y,r)\n",
    "## Parameters to detect circles\n",
    "# dp=Inverse ratio of the accumulator resolution to the image resolution\n",
    "# minDist= Minimum distance between the centers of the detected circles.\n",
    "\n",
    "circles = cv2.HoughCircles(img,cv2.HOUGH_GRADIENT,dp=1,minDist=10, param1=90,param2=10,minRadius=5,maxRadius=16)\n",
    "\n",
    "circles = np.uint16(np.around(circles))\n",
    "\n",
    "for i in circles[0,:]:\n",
    "#    draw the outer circle\n",
    "    cv2.circle(cimg,(i[0],i[1]),i[2],(0,255,0),2)\n",
    "#    draw the center of the circle\n",
    "    cv2.circle(cimg,(i[0],i[1]),2,(0,0,255),3)\n",
    "\n",
    "circles = np.round(circles[0, :]).astype(\"int\")"
   ]
  },
  {
   "cell_type": "markdown",
   "metadata": {},
   "source": [
    "### Histogram of radius distribution"
   ]
  },
  {
   "cell_type": "code",
   "execution_count": 4,
   "metadata": {},
   "outputs": [
    {
     "name": "stdout",
     "output_type": "stream",
     "text": [
      "the average radius in pixel: 11 pixel\n",
      "the average size: 12.08791208791209 nm\n"
     ]
    },
    {
     "data": {
      "image/png": "[encoded data removed]",
      "text/plain": [
       "<Figure size 432x288 with 1 Axes>"
      ]
     },
     "metadata": {},
     "output_type": "display_data"
    }
   ],
   "source": [
    "\n",
    "plt.style.use('seaborn-white')\n",
    "plt.hist(circles[:,2])\n",
    "plt.xlabel('Radius in pixel')\n",
    "plt.ylabel('Circles Count')\n",
    "plt.title('The distribution of SAS particles')\n",
    "plt.savefig('The distribution of SAS particles.jpg')\n",
    "\n",
    "totAvgRadiusPixel = sum(i[2] for i in circles) // len(circles)\n",
    "totAvgSize=2*totAvgRadiusPixel*Distance_Pixel_ratio\n",
    "\n",
    "print(\"the average radius in pixel:\",totAvgRadiusPixel,\"pixel\")\n",
    "print(\"the average size:\",totAvgSize,\"nm\")"
   ]
  },
  {
   "cell_type": "markdown",
   "metadata": {},
   "source": [
    "### Plotting detected circles"
   ]
  },
  {
   "cell_type": "code",
   "execution_count": null,
   "metadata": {},
   "outputs": [],
   "source": [
    "\n",
    "cv2.imshow('detected circles',cimg)\n",
    "cv2.imwrite('DetectedParticles.jpg',cimg)\n",
    "cv2.waitKey(0)\n",
    "cv2.destroyAllWindows()\n"
   ]
  },
  {
   "cell_type": "code",
   "execution_count": null,
   "metadata": {},
   "outputs": [],
   "source": []
  }
 ],
 "metadata": {
  "kernelspec": {
   "display_name": "Python 3",
   "language": "python",
   "name": "python3"
  },
  "language_info": {
   "codemirror_mode": {
    "name": "ipython",
    "version": 3
   },
   "file_extension": ".py",
   "mimetype": "text/x-python",
   "name": "python",
   "nbconvert_exporter": "python",
   "pygments_lexer": "ipython3",
   "version": "3.7.0"
  }
 },
 "nbformat": 4,
 "nbformat_minor": 2
}
